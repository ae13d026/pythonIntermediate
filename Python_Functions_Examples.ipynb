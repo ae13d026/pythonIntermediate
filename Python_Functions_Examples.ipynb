{
 "cells": [
  {
   "cell_type": "markdown",
   "id": "6f8071be",
   "metadata": {},
   "source": [
    "### Functions Problems\n",
    "- Write a Python function to find the Max of three numbers. (Take input as 6 digit number, divide it into 3 two digit numbers and find the maximum of those numbers)\n",
    "- Write a Python function to reverse a string.\n",
    "- Write a Python function to calculate the factorial of a number (a non-negative integer). The function accepts the number as an argument.\n",
    "- Write a Python function that accepts a string and calculate the number of upper case letters and lower case letters.\n",
    "- Write a Python function that takes a number as a parameter and check the number is prime or not.\n",
    "- Write a Python function to check whether a string is a pangram or not. (A pangram is a string that contains all the alphabets)"
   ]
  },
  {
   "cell_type": "code",
   "execution_count": 1,
   "id": "b4121565",
   "metadata": {},
   "outputs": [
    {
     "name": "stdout",
     "output_type": "stream",
     "text": [
      "Enter 6 digit number: 234598\n",
      "The max number is:  98\n"
     ]
    }
   ],
   "source": [
    "##\n",
    "## Write a Python function to find the Max of three numbers. \n",
    "## (Take input as 6 digit number, divide it into 3 two digit numbers and find the maximum of those numbers)\n",
    "##\n",
    "\n",
    "##\n",
    "## Function definition\n",
    "##\n",
    "def maxNum():\n",
    "    numbers = input(\"Enter 6 digit number: \")\n",
    "    num1 = int(numbers[0:2])\n",
    "    num2 = int(numbers[2:4])\n",
    "    num3 = int(numbers[4:])\n",
    "    if num1 > num2:\n",
    "        max = num1\n",
    "    else:\n",
    "        max = num2\n",
    "\n",
    "    if max < num3:\n",
    "        max = num3\n",
    "\n",
    "    print(\"The max number is: \",max)\n",
    "\n",
    "##\n",
    "## Calling the function\n",
    "##\n",
    "maxNum()"
   ]
  },
  {
   "cell_type": "code",
   "execution_count": 2,
   "id": "02bf660c",
   "metadata": {},
   "outputs": [
    {
     "name": "stdout",
     "output_type": "stream",
     "text": [
      "Enter the string: tipTop\n",
      "poTpit"
     ]
    }
   ],
   "source": [
    "##\n",
    "## Write a Python function to reverse a string.\n",
    "##\n",
    "\n",
    "##\n",
    "## Function definition\n",
    "##\n",
    "def revString():\n",
    "    strr = input(\"Enter the string: \")\n",
    "    for i in range(1,len(strr)+1):\n",
    "        print(strr[-i],end=\"\")\n",
    "##\n",
    "## Calling function\n",
    "##\n",
    "revString()"
   ]
  },
  {
   "cell_type": "code",
   "execution_count": 3,
   "id": "6fb6cd2d",
   "metadata": {},
   "outputs": [
    {
     "name": "stdout",
     "output_type": "stream",
     "text": [
      "Enter the number: 5\n",
      "The factorial of the number 120 is \n"
     ]
    }
   ],
   "source": [
    "##\n",
    "## Write a Python function to calculate the factorial of a number (a non-negative integer). \n",
    "## The function accepts the number as an argument.\n",
    "##\n",
    "\n",
    "def factorial(num):\n",
    "    fact = 1\n",
    "    for i in range(1,num+1):\n",
    "        fact = fact*i\n",
    "    return fact\n",
    "\n",
    "num = int(input(\"Enter the number: \"))\n",
    "print(\"The factorial of the number %d is \" %factorial(num))"
   ]
  },
  {
   "cell_type": "code",
   "execution_count": 6,
   "id": "b6548627",
   "metadata": {},
   "outputs": [
    {
     "name": "stdout",
     "output_type": "stream",
     "text": [
      "Enter a string to calculate the number of upper and lower case letters: I am a BoY\n",
      "The number of upper case letters are  3\n",
      "The number of lower case letters are  4\n"
     ]
    }
   ],
   "source": [
    "##\n",
    "## Write a Python function that accepts a string and calculate the number of upper case letters and lower case letters.\n",
    "##\n",
    "def upperLower(strr):\n",
    "    upper = 0\n",
    "    lower = 0\n",
    "    alphabets = \"abcdefghijklmnopqrstuvwxyz\"\n",
    "    for i in strr:\n",
    "        if i in alphabets or i in alphabets.upper():\n",
    "            if i.isupper():\n",
    "                upper = upper + 1\n",
    "            else:\n",
    "                lower = lower + 1\n",
    "    print(\"The number of upper case letters are \",upper)\n",
    "    print(\"The number of lower case letters are \",lower)\n",
    "    \n",
    "\n",
    "strr = input(\"Enter a string to calculate the number of upper and lower case letters: \")\n",
    "upperLower(strr)"
   ]
  },
  {
   "cell_type": "code",
   "execution_count": null,
   "id": "cf440bd1",
   "metadata": {},
   "outputs": [],
   "source": [
    "##\n",
    "## Write a Python function to check whether a string is a pangram or not. \n",
    "## (A pangram is a string that contains all the alphabets)\n",
    "##\n",
    "\n",
    "def pangramCheck():\n",
    "    strr = input(\"Enter a string to check if it's a pangram: \")\n",
    "    strr = strr.lower() # Converting to lower case letters\n",
    "    alphabets = \"abcdefghijklmnopqrstuvwxyz\"\n",
    "    for i in alphabets:\n",
    "        if i in strr:\n",
    "            pass\n",
    "        else:\n",
    "            print(\"The string is not a pangram\")\n",
    "            break\n",
    "    if i == alphabets[-1]:\n",
    "        print(\"The string is a pangram\")\n",
    "        \n",
    "pangramCheck()"
   ]
  }
 ],
 "metadata": {
  "kernelspec": {
   "display_name": "Python 3",
   "language": "python",
   "name": "python3"
  },
  "language_info": {
   "codemirror_mode": {
    "name": "ipython",
    "version": 3
   },
   "file_extension": ".py",
   "mimetype": "text/x-python",
   "name": "python",
   "nbconvert_exporter": "python",
   "pygments_lexer": "ipython3",
   "version": "3.8.8"
  }
 },
 "nbformat": 4,
 "nbformat_minor": 5
}
